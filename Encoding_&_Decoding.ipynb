{
  "nbformat": 4,
  "nbformat_minor": 0,
  "metadata": {
    "colab": {
      "name": "Encoding & Decoding",
      "provenance": [],
      "toc_visible": true,
      "authorship_tag": "ABX9TyPiqwPGNEMv4dWzyPqyebPn",
      "include_colab_link": true
    },
    "kernelspec": {
      "name": "python3",
      "display_name": "Python 3"
    },
    "language_info": {
      "name": "python"
    }
  },
  "cells": [
    {
      "cell_type": "markdown",
      "metadata": {
        "id": "view-in-github",
        "colab_type": "text"
      },
      "source": [
        "<a href=\"https://colab.research.google.com/github/AbdirayimovS/Encoding-Decoding-algorithm/blob/main/Encoding_%26_Decoding.ipynb\" target=\"_parent\"><img src=\"https://colab.research.google.com/assets/colab-badge.svg\" alt=\"Open In Colab\"/></a>"
      ]
    },
    {
      "cell_type": "code",
      "source": [
        "import string\n",
        "\n",
        "class Sardor:\n",
        "    def __init__(self, delta=3):\n",
        "        \"\"\"Choose your fevourive number as delta:)\"\"\"\n",
        "        self.delta = delta\n",
        "        self.letters = list(string.ascii_letters)\n",
        "    def encode(self, txt):\n",
        "        #txt = \" \".join(s.split())\n",
        "        res = \"\"\n",
        "        for i in txt:\n",
        "            if i.isalpha():\n",
        "                #do with strings\n",
        "                pos = self.letters.index(i)\n",
        "                res+=self.letters[(pos+self.delta)%52]\n",
        "            else:\n",
        "                res+=i\n",
        "        return res\n",
        "    def decode(self, txt2):\n",
        "        tot = \"\"\n",
        "        for i in txt2:\n",
        "            if i.isalpha():\n",
        "                #do with strings\n",
        "                pos = self.letters.index(i)\n",
        "                tot+=self.letters[(pos-self.delta)%52]\n",
        "            else:\n",
        "                tot+=i\n",
        "        return tot\n",
        "    "
      ],
      "metadata": {
        "id": "obH2ROHVD3_h"
      },
      "execution_count": 1,
      "outputs": []
    },
    {
      "cell_type": "code",
      "source": [
        "txt = input(\"Enter your text to encode:\\n\")\n",
        "obj = Sardor()\n",
        "code = obj.encode(txt)\n",
        "print(code)\n",
        "result = obj.decode(code)\n",
        "print(result)"
      ],
      "metadata": {
        "colab": {
          "base_uri": "https://localhost:8080/"
        },
        "id": "woG4Lw_9zerE",
        "outputId": "cf3465de-56fd-4f47-a47a-81bba4284eda"
      },
      "execution_count": 2,
      "outputs": [
        {
          "output_type": "stream",
          "name": "stdout",
          "text": [
            "Enter your text to encode:\n",
            "We are not alone inn the universe!\n",
            "Zh duh qrw dorqh lqq wkh xqlyhuvh!\n",
            "We are not alone inn the universe!\n"
          ]
        }
      ]
    }
  ]
}